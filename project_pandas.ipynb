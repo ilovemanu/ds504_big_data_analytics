{
 "cells": [
  {
   "cell_type": "code",
   "execution_count": 181,
   "metadata": {},
   "outputs": [],
   "source": [
    "import matplotlib.pyplot as plt\n",
    "%matplotlib inline\n",
    "plt.style.use('fivethirtyeight')\n",
    "\n",
    "import pandas as pd\n",
    "import numpy as np"
   ]
  },
  {
   "cell_type": "code",
   "execution_count": 182,
   "metadata": {},
   "outputs": [
    {
     "name": "stderr",
     "output_type": "stream",
     "text": [
      "/usr/local/lib/python3.7/site-packages/IPython/core/interactiveshell.py:3058: DtypeWarning: Columns (13) have mixed types. Specify dtype option on import or set low_memory=False.\n",
      "  interactivity=interactivity, compiler=compiler, result=result)\n"
     ]
    },
    {
     "data": {
      "text/html": [
       "<div>\n",
       "<style scoped>\n",
       "    .dataframe tbody tr th:only-of-type {\n",
       "        vertical-align: middle;\n",
       "    }\n",
       "\n",
       "    .dataframe tbody tr th {\n",
       "        vertical-align: top;\n",
       "    }\n",
       "\n",
       "    .dataframe thead th {\n",
       "        text-align: right;\n",
       "    }\n",
       "</style>\n",
       "<table border=\"1\" class=\"dataframe\">\n",
       "  <thead>\n",
       "    <tr style=\"text-align: right;\">\n",
       "      <th></th>\n",
       "      <th>case_enquiry_id</th>\n",
       "      <th>open_dt</th>\n",
       "      <th>target_dt</th>\n",
       "      <th>closed_dt</th>\n",
       "      <th>ontime</th>\n",
       "      <th>case_status</th>\n",
       "      <th>closure_reason</th>\n",
       "      <th>case_title</th>\n",
       "      <th>subject</th>\n",
       "      <th>reason</th>\n",
       "      <th>...</th>\n",
       "      <th>police_district</th>\n",
       "      <th>neighborhood</th>\n",
       "      <th>neighborhood_services_district</th>\n",
       "      <th>ward</th>\n",
       "      <th>precinct</th>\n",
       "      <th>location_street_name</th>\n",
       "      <th>location_zipcode</th>\n",
       "      <th>latitude</th>\n",
       "      <th>longitude</th>\n",
       "      <th>source</th>\n",
       "    </tr>\n",
       "  </thead>\n",
       "  <tbody>\n",
       "    <tr>\n",
       "      <td>0</td>\n",
       "      <td>101000295615</td>\n",
       "      <td>2011-07-01 02:28:04</td>\n",
       "      <td>2011-08-15 02:28:04</td>\n",
       "      <td>2011-08-01 15:21:46</td>\n",
       "      <td>ONTIME</td>\n",
       "      <td>Closed</td>\n",
       "      <td>Case Closed Case Resolved No Sidewalk and poor...</td>\n",
       "      <td>New Sign  Crosswalk or Pavement Marking</td>\n",
       "      <td>Transportation - Traffic Division</td>\n",
       "      <td>Signs &amp; Signals</td>\n",
       "      <td>...</td>\n",
       "      <td>E5</td>\n",
       "      <td>West Roxbury</td>\n",
       "      <td>12</td>\n",
       "      <td>Ward 20</td>\n",
       "      <td>2017</td>\n",
       "      <td>INTERSECTION Corey St &amp; Lagrange St</td>\n",
       "      <td>NaN</td>\n",
       "      <td>42.3003</td>\n",
       "      <td>-71.1698</td>\n",
       "      <td>Self Service</td>\n",
       "    </tr>\n",
       "    <tr>\n",
       "      <td>1</td>\n",
       "      <td>101000295616</td>\n",
       "      <td>2011-07-01 03:03:48</td>\n",
       "      <td>2011-07-15 03:03:48</td>\n",
       "      <td>2011-07-22 16:13:45</td>\n",
       "      <td>OVERDUE</td>\n",
       "      <td>Closed</td>\n",
       "      <td>Case Closed Case Resolved completed</td>\n",
       "      <td>Street Light Outages</td>\n",
       "      <td>Public Works Department</td>\n",
       "      <td>Street Lights</td>\n",
       "      <td>...</td>\n",
       "      <td>E18</td>\n",
       "      <td>Hyde Park</td>\n",
       "      <td>10</td>\n",
       "      <td>Ward 18</td>\n",
       "      <td>1816</td>\n",
       "      <td>235 Fairmount Ave</td>\n",
       "      <td>2136.0</td>\n",
       "      <td>42.2496</td>\n",
       "      <td>-71.1156</td>\n",
       "      <td>Self Service</td>\n",
       "    </tr>\n",
       "    <tr>\n",
       "      <td>2</td>\n",
       "      <td>101000295617</td>\n",
       "      <td>2011-07-01 03:12:31</td>\n",
       "      <td>NaN</td>\n",
       "      <td>2011-07-01 06:12:38</td>\n",
       "      <td>ONTIME</td>\n",
       "      <td>Closed</td>\n",
       "      <td>Case Closed Case Resolved</td>\n",
       "      <td>Highway Maintenance</td>\n",
       "      <td>Public Works Department</td>\n",
       "      <td>Highway Maintenance</td>\n",
       "      <td>...</td>\n",
       "      <td>C11</td>\n",
       "      <td>Dorchester</td>\n",
       "      <td>7</td>\n",
       "      <td>Ward 13</td>\n",
       "      <td>1309</td>\n",
       "      <td>INTERSECTION Dorchester Ave &amp; Hallam St</td>\n",
       "      <td>NaN</td>\n",
       "      <td>42.3144</td>\n",
       "      <td>-71.0569</td>\n",
       "      <td>Constituent Call</td>\n",
       "    </tr>\n",
       "    <tr>\n",
       "      <td>3</td>\n",
       "      <td>101000295618</td>\n",
       "      <td>2011-07-01 03:43:07</td>\n",
       "      <td>NaN</td>\n",
       "      <td>2011-07-05 09:16:10</td>\n",
       "      <td>ONTIME</td>\n",
       "      <td>Closed</td>\n",
       "      <td>Case Closed Case Noted</td>\n",
       "      <td>Notification</td>\n",
       "      <td>Mayor's 24 Hour Hotline</td>\n",
       "      <td>Notification</td>\n",
       "      <td>...</td>\n",
       "      <td>E13</td>\n",
       "      <td>Jamaica Plain</td>\n",
       "      <td>11</td>\n",
       "      <td>Ward 10</td>\n",
       "      <td>1006</td>\n",
       "      <td>7 Edge Hill St</td>\n",
       "      <td>2130.0</td>\n",
       "      <td>42.3243</td>\n",
       "      <td>-71.1060</td>\n",
       "      <td>Constituent Call</td>\n",
       "    </tr>\n",
       "    <tr>\n",
       "      <td>4</td>\n",
       "      <td>101000295619</td>\n",
       "      <td>2011-07-01 05:35:41</td>\n",
       "      <td>2011-08-15 05:35:41</td>\n",
       "      <td>2011-10-17 12:33:28</td>\n",
       "      <td>OVERDUE</td>\n",
       "      <td>Closed</td>\n",
       "      <td>Case Closed Case Noted Duplicate request</td>\n",
       "      <td>New Sign  Crosswalk or Pavement Marking</td>\n",
       "      <td>Transportation - Traffic Division</td>\n",
       "      <td>Signs &amp; Signals</td>\n",
       "      <td>...</td>\n",
       "      <td>D4</td>\n",
       "      <td>Fenway / Kenmore / Audubon Circle / Longwood</td>\n",
       "      <td>14</td>\n",
       "      <td>Ward 21</td>\n",
       "      <td>2102</td>\n",
       "      <td>INTERSECTION Arundel St &amp; Beacon St</td>\n",
       "      <td>NaN</td>\n",
       "      <td>42.3471</td>\n",
       "      <td>-71.1033</td>\n",
       "      <td>Self Service</td>\n",
       "    </tr>\n",
       "  </tbody>\n",
       "</table>\n",
       "<p>5 rows × 29 columns</p>\n",
       "</div>"
      ],
      "text/plain": [
       "   case_enquiry_id              open_dt            target_dt  \\\n",
       "0     101000295615  2011-07-01 02:28:04  2011-08-15 02:28:04   \n",
       "1     101000295616  2011-07-01 03:03:48  2011-07-15 03:03:48   \n",
       "2     101000295617  2011-07-01 03:12:31                  NaN   \n",
       "3     101000295618  2011-07-01 03:43:07                  NaN   \n",
       "4     101000295619  2011-07-01 05:35:41  2011-08-15 05:35:41   \n",
       "\n",
       "             closed_dt   ontime case_status  \\\n",
       "0  2011-08-01 15:21:46   ONTIME      Closed   \n",
       "1  2011-07-22 16:13:45  OVERDUE      Closed   \n",
       "2  2011-07-01 06:12:38   ONTIME      Closed   \n",
       "3  2011-07-05 09:16:10   ONTIME      Closed   \n",
       "4  2011-10-17 12:33:28  OVERDUE      Closed   \n",
       "\n",
       "                                      closure_reason  \\\n",
       "0  Case Closed Case Resolved No Sidewalk and poor...   \n",
       "1               Case Closed Case Resolved completed    \n",
       "2                         Case Closed Case Resolved    \n",
       "3                            Case Closed Case Noted    \n",
       "4          Case Closed Case Noted Duplicate request    \n",
       "\n",
       "                                case_title                            subject  \\\n",
       "0  New Sign  Crosswalk or Pavement Marking  Transportation - Traffic Division   \n",
       "1                     Street Light Outages            Public Works Department   \n",
       "2                      Highway Maintenance            Public Works Department   \n",
       "3                             Notification            Mayor's 24 Hour Hotline   \n",
       "4  New Sign  Crosswalk or Pavement Marking  Transportation - Traffic Division   \n",
       "\n",
       "                reason  ... police_district  \\\n",
       "0      Signs & Signals  ...              E5   \n",
       "1        Street Lights  ...             E18   \n",
       "2  Highway Maintenance  ...             C11   \n",
       "3         Notification  ...             E13   \n",
       "4      Signs & Signals  ...              D4   \n",
       "\n",
       "                                   neighborhood  \\\n",
       "0                                  West Roxbury   \n",
       "1                                     Hyde Park   \n",
       "2                                    Dorchester   \n",
       "3                                 Jamaica Plain   \n",
       "4  Fenway / Kenmore / Audubon Circle / Longwood   \n",
       "\n",
       "  neighborhood_services_district     ward precinct  \\\n",
       "0                             12  Ward 20     2017   \n",
       "1                             10  Ward 18     1816   \n",
       "2                              7  Ward 13     1309   \n",
       "3                             11  Ward 10     1006   \n",
       "4                             14  Ward 21     2102   \n",
       "\n",
       "                      location_street_name location_zipcode latitude  \\\n",
       "0      INTERSECTION Corey St & Lagrange St              NaN  42.3003   \n",
       "1                        235 Fairmount Ave           2136.0  42.2496   \n",
       "2  INTERSECTION Dorchester Ave & Hallam St              NaN  42.3144   \n",
       "3                           7 Edge Hill St           2130.0  42.3243   \n",
       "4      INTERSECTION Arundel St & Beacon St              NaN  42.3471   \n",
       "\n",
       "  longitude            source  \n",
       "0  -71.1698      Self Service  \n",
       "1  -71.1156      Self Service  \n",
       "2  -71.0569  Constituent Call  \n",
       "3  -71.1060  Constituent Call  \n",
       "4  -71.1033      Self Service  \n",
       "\n",
       "[5 rows x 29 columns]"
      ]
     },
     "execution_count": 182,
     "metadata": {},
     "output_type": "execute_result"
    }
   ],
   "source": [
    "raw = pd.read_csv('tmpkab7z67g.csv')\n",
    "raw.head()"
   ]
  },
  {
   "cell_type": "code",
   "execution_count": 183,
   "metadata": {},
   "outputs": [
    {
     "data": {
      "text/plain": [
       "(1611147, 29)"
      ]
     },
     "execution_count": 183,
     "metadata": {},
     "output_type": "execute_result"
    }
   ],
   "source": [
    "raw.shape"
   ]
  },
  {
   "cell_type": "code",
   "execution_count": 184,
   "metadata": {},
   "outputs": [
    {
     "data": {
      "text/plain": [
       "case_enquiry_id                     int64\n",
       "open_dt                            object\n",
       "target_dt                          object\n",
       "closed_dt                          object\n",
       "ontime                             object\n",
       "case_status                        object\n",
       "closure_reason                     object\n",
       "case_title                         object\n",
       "subject                            object\n",
       "reason                             object\n",
       "type                               object\n",
       "queue                              object\n",
       "department                         object\n",
       "submittedphoto                     object\n",
       "closedphoto                        object\n",
       "location                           object\n",
       "fire_district                      object\n",
       "pwd_district                       object\n",
       "city_council_district              object\n",
       "police_district                    object\n",
       "neighborhood                       object\n",
       "neighborhood_services_district     object\n",
       "ward                               object\n",
       "precinct                           object\n",
       "location_street_name               object\n",
       "location_zipcode                  float64\n",
       "latitude                          float64\n",
       "longitude                         float64\n",
       "source                             object\n",
       "dtype: object"
      ]
     },
     "execution_count": 184,
     "metadata": {},
     "output_type": "execute_result"
    }
   ],
   "source": [
    "raw.dtypes"
   ]
  },
  {
   "cell_type": "markdown",
   "metadata": {},
   "source": [
    "### Process datetime features\n",
    "- Extract year, month, day, day of week information from the open_dt column.\n",
    "- Calculate the service request processing time as 'duration' (in hours)."
   ]
  },
  {
   "cell_type": "code",
   "execution_count": 185,
   "metadata": {},
   "outputs": [],
   "source": [
    "raw.open_dt = pd.to_datetime(raw.open_dt)\n",
    "raw.closed_dt = pd.to_datetime(raw.closed_dt)\n",
    "\n",
    "raw['duration'] = (raw.closed_dt - raw.open_dt)/np.timedelta64(1,'h')\n",
    "\n",
    "raw['open_y'] = raw['open_dt'].dt.year\n",
    "raw['open_m'] = raw['open_dt'].dt.month\n",
    "raw['open_d'] = raw['open_dt'].dt.day\n",
    "raw['open_day_of_week'] = raw['open_dt'].dt.dayofweek"
   ]
  },
  {
   "cell_type": "markdown",
   "metadata": {},
   "source": [
    "### Filter data by year.\n",
    "- Focus on 2013 - 2018 data to match with the heterogenous weather data.\n",
    "- Focus on data that were processed 'ONTIME' to reduce outliers."
   ]
  },
  {
   "cell_type": "code",
   "execution_count": 186,
   "metadata": {},
   "outputs": [
    {
     "data": {
      "text/plain": [
       "(978370, 34)"
      ]
     },
     "execution_count": 186,
     "metadata": {},
     "output_type": "execute_result"
    }
   ],
   "source": [
    "df = raw[(raw.open_y<=2018) & (raw.open_y>=2013) & (raw.ontime=='ONTIME')]\n",
    "df.shape"
   ]
  },
  {
   "cell_type": "markdown",
   "metadata": {},
   "source": [
    "### Deal with missing data, errant data, and useless features.\n",
    "- Missing data include NaN data and data with empty string as value.\n",
    "- Errant data have negative duration value. "
   ]
  },
  {
   "cell_type": "code",
   "execution_count": 187,
   "metadata": {},
   "outputs": [
    {
     "data": {
      "text/plain": [
       "(936602, 11)"
      ]
     },
     "execution_count": 187,
     "metadata": {},
     "output_type": "execute_result"
    }
   ],
   "source": [
    "# drop useless features\n",
    "to_drop = ['case_enquiry_id', 'target_dt', 'closure_reason', 'queue', 'submittedphoto', 'closedphoto', \\\n",
    "           'location', 'fire_district', 'pwd_district', 'police_district', 'case_status','closed_dt',\\\n",
    "           'neighborhood_services_district', 'ward', 'precinct', 'location_street_name', 'location_zipcode',\\\n",
    "           'city_council_district', 'open_dt', 'type', 'case_title', 'subject', 'ontime'\\\n",
    "          ]\n",
    "\n",
    "\n",
    "# drop useless columns and records with missing values\n",
    "df = df.drop(to_drop, axis=1).dropna(axis=0)\n",
    "\n",
    "# drop records with ' ' values\n",
    "df.drop(index=df[df['neighborhood'] == ' '].index.tolist(), inplace=True)\n",
    "\n",
    "# drop errant data\n",
    "df = df[df.duration>=0]\n",
    "\n",
    "df.shape"
   ]
  },
  {
   "cell_type": "markdown",
   "metadata": {},
   "source": [
    "### Merge 311 data with heterogenous boston weather data."
   ]
  },
  {
   "cell_type": "code",
   "execution_count": 188,
   "metadata": {},
   "outputs": [
    {
     "data": {
      "text/html": [
       "<div>\n",
       "<style scoped>\n",
       "    .dataframe tbody tr th:only-of-type {\n",
       "        vertical-align: middle;\n",
       "    }\n",
       "\n",
       "    .dataframe tbody tr th {\n",
       "        vertical-align: top;\n",
       "    }\n",
       "\n",
       "    .dataframe thead th {\n",
       "        text-align: right;\n",
       "    }\n",
       "</style>\n",
       "<table border=\"1\" class=\"dataframe\">\n",
       "  <thead>\n",
       "    <tr style=\"text-align: right;\">\n",
       "      <th></th>\n",
       "      <th>Year</th>\n",
       "      <th>Month</th>\n",
       "      <th>Day</th>\n",
       "      <th>Avg Temp (F)</th>\n",
       "      <th>Precip (in)</th>\n",
       "    </tr>\n",
       "  </thead>\n",
       "  <tbody>\n",
       "    <tr>\n",
       "      <td>0</td>\n",
       "      <td>2013</td>\n",
       "      <td>1</td>\n",
       "      <td>1</td>\n",
       "      <td>29</td>\n",
       "      <td>0.0</td>\n",
       "    </tr>\n",
       "    <tr>\n",
       "      <td>1</td>\n",
       "      <td>2013</td>\n",
       "      <td>1</td>\n",
       "      <td>2</td>\n",
       "      <td>21</td>\n",
       "      <td>0.0</td>\n",
       "    </tr>\n",
       "    <tr>\n",
       "      <td>2</td>\n",
       "      <td>2013</td>\n",
       "      <td>1</td>\n",
       "      <td>3</td>\n",
       "      <td>16</td>\n",
       "      <td>0.0</td>\n",
       "    </tr>\n",
       "    <tr>\n",
       "      <td>3</td>\n",
       "      <td>2013</td>\n",
       "      <td>1</td>\n",
       "      <td>4</td>\n",
       "      <td>30</td>\n",
       "      <td>0.0</td>\n",
       "    </tr>\n",
       "    <tr>\n",
       "      <td>4</td>\n",
       "      <td>2013</td>\n",
       "      <td>1</td>\n",
       "      <td>5</td>\n",
       "      <td>35</td>\n",
       "      <td>0.0</td>\n",
       "    </tr>\n",
       "  </tbody>\n",
       "</table>\n",
       "</div>"
      ],
      "text/plain": [
       "   Year  Month  Day  Avg Temp (F)  Precip (in)\n",
       "0  2013      1    1            29          0.0\n",
       "1  2013      1    2            21          0.0\n",
       "2  2013      1    3            16          0.0\n",
       "3  2013      1    4            30          0.0\n",
       "4  2013      1    5            35          0.0"
      ]
     },
     "execution_count": 188,
     "metadata": {},
     "output_type": "execute_result"
    }
   ],
   "source": [
    "w = pd.read_csv('weather.csv')\n",
    "w.head()"
   ]
  },
  {
   "cell_type": "code",
   "execution_count": 189,
   "metadata": {},
   "outputs": [
    {
     "data": {
      "text/plain": [
       "(936602, 13)"
      ]
     },
     "execution_count": 189,
     "metadata": {},
     "output_type": "execute_result"
    }
   ],
   "source": [
    "new_df = pd.merge(df, w,  how='left', left_on=['open_y','open_m', 'open_d'], right_on = ['Year','Month', 'Day'])\n",
    "new_df.drop(['Year', 'Month', 'Day'], axis=1, inplace=True)\n",
    "new_df.shape"
   ]
  },
  {
   "cell_type": "code",
   "execution_count": 190,
   "metadata": {},
   "outputs": [
    {
     "data": {
      "text/plain": [
       "(936602, 12)"
      ]
     },
     "execution_count": 190,
     "metadata": {},
     "output_type": "execute_result"
    }
   ],
   "source": [
    "# drop irrelevant columns\n",
    "new_df.drop(['open_d'], axis=1, inplace=True)\n",
    "new_df.shape"
   ]
  },
  {
   "cell_type": "code",
   "execution_count": 191,
   "metadata": {},
   "outputs": [
    {
     "data": {
      "text/html": [
       "<div>\n",
       "<style scoped>\n",
       "    .dataframe tbody tr th:only-of-type {\n",
       "        vertical-align: middle;\n",
       "    }\n",
       "\n",
       "    .dataframe tbody tr th {\n",
       "        vertical-align: top;\n",
       "    }\n",
       "\n",
       "    .dataframe thead th {\n",
       "        text-align: right;\n",
       "    }\n",
       "</style>\n",
       "<table border=\"1\" class=\"dataframe\">\n",
       "  <thead>\n",
       "    <tr style=\"text-align: right;\">\n",
       "      <th></th>\n",
       "      <th>reason</th>\n",
       "      <th>department</th>\n",
       "      <th>neighborhood</th>\n",
       "      <th>latitude</th>\n",
       "      <th>longitude</th>\n",
       "      <th>source</th>\n",
       "      <th>duration</th>\n",
       "      <th>open_y</th>\n",
       "      <th>open_m</th>\n",
       "      <th>open_day_of_week</th>\n",
       "      <th>Avg Temp (F)</th>\n",
       "      <th>Precip (in)</th>\n",
       "    </tr>\n",
       "  </thead>\n",
       "  <tbody>\n",
       "    <tr>\n",
       "      <td>0</td>\n",
       "      <td>Notification</td>\n",
       "      <td>INFO</td>\n",
       "      <td>Dorchester</td>\n",
       "      <td>42.2883</td>\n",
       "      <td>-71.0588</td>\n",
       "      <td>Constituent Call</td>\n",
       "      <td>263.208333</td>\n",
       "      <td>2013</td>\n",
       "      <td>2</td>\n",
       "      <td>4</td>\n",
       "      <td>29</td>\n",
       "      <td>0.00</td>\n",
       "    </tr>\n",
       "    <tr>\n",
       "      <td>1</td>\n",
       "      <td>Notification</td>\n",
       "      <td>INFO</td>\n",
       "      <td>Dorchester</td>\n",
       "      <td>42.3179</td>\n",
       "      <td>-71.0676</td>\n",
       "      <td>Constituent Call</td>\n",
       "      <td>75.201944</td>\n",
       "      <td>2013</td>\n",
       "      <td>4</td>\n",
       "      <td>4</td>\n",
       "      <td>41</td>\n",
       "      <td>0.35</td>\n",
       "    </tr>\n",
       "    <tr>\n",
       "      <td>2</td>\n",
       "      <td>Sanitation</td>\n",
       "      <td>PWDx</td>\n",
       "      <td>Roxbury</td>\n",
       "      <td>42.3086</td>\n",
       "      <td>-71.0855</td>\n",
       "      <td>Self Service</td>\n",
       "      <td>55.546111</td>\n",
       "      <td>2013</td>\n",
       "      <td>1</td>\n",
       "      <td>1</td>\n",
       "      <td>29</td>\n",
       "      <td>0.00</td>\n",
       "    </tr>\n",
       "    <tr>\n",
       "      <td>3</td>\n",
       "      <td>Sanitation</td>\n",
       "      <td>PWDx</td>\n",
       "      <td>South End</td>\n",
       "      <td>42.3440</td>\n",
       "      <td>-71.0704</td>\n",
       "      <td>Self Service</td>\n",
       "      <td>79.481944</td>\n",
       "      <td>2013</td>\n",
       "      <td>1</td>\n",
       "      <td>1</td>\n",
       "      <td>29</td>\n",
       "      <td>0.00</td>\n",
       "    </tr>\n",
       "    <tr>\n",
       "      <td>4</td>\n",
       "      <td>Signs &amp; Signals</td>\n",
       "      <td>BTDT</td>\n",
       "      <td>Roxbury</td>\n",
       "      <td>42.3373</td>\n",
       "      <td>-71.0840</td>\n",
       "      <td>Constituent Call</td>\n",
       "      <td>221.571389</td>\n",
       "      <td>2013</td>\n",
       "      <td>1</td>\n",
       "      <td>1</td>\n",
       "      <td>29</td>\n",
       "      <td>0.00</td>\n",
       "    </tr>\n",
       "  </tbody>\n",
       "</table>\n",
       "</div>"
      ],
      "text/plain": [
       "            reason department neighborhood  latitude  longitude  \\\n",
       "0     Notification       INFO   Dorchester   42.2883   -71.0588   \n",
       "1     Notification       INFO   Dorchester   42.3179   -71.0676   \n",
       "2       Sanitation       PWDx      Roxbury   42.3086   -71.0855   \n",
       "3       Sanitation       PWDx    South End   42.3440   -71.0704   \n",
       "4  Signs & Signals       BTDT      Roxbury   42.3373   -71.0840   \n",
       "\n",
       "             source    duration  open_y  open_m  open_day_of_week  \\\n",
       "0  Constituent Call  263.208333    2013       2                 4   \n",
       "1  Constituent Call   75.201944    2013       4                 4   \n",
       "2      Self Service   55.546111    2013       1                 1   \n",
       "3      Self Service   79.481944    2013       1                 1   \n",
       "4  Constituent Call  221.571389    2013       1                 1   \n",
       "\n",
       "   Avg Temp (F)  Precip (in)  \n",
       "0            29         0.00  \n",
       "1            41         0.35  \n",
       "2            29         0.00  \n",
       "3            29         0.00  \n",
       "4            29         0.00  "
      ]
     },
     "execution_count": 191,
     "metadata": {},
     "output_type": "execute_result"
    }
   ],
   "source": [
    "new_df.head()"
   ]
  },
  {
   "cell_type": "code",
   "execution_count": 192,
   "metadata": {},
   "outputs": [
    {
     "data": {
      "text/plain": [
       "count    936602.000000\n",
       "mean        226.909647\n",
       "std        1092.212850\n",
       "min           0.000000\n",
       "25%           1.150000\n",
       "50%          14.170972\n",
       "75%          74.559375\n",
       "max       54630.305556\n",
       "Name: duration, dtype: float64"
      ]
     },
     "execution_count": 192,
     "metadata": {},
     "output_type": "execute_result"
    }
   ],
   "source": [
    "new_df.duration.describe()"
   ]
  },
  {
   "cell_type": "code",
   "execution_count": 193,
   "metadata": {},
   "outputs": [
    {
     "data": {
      "text/plain": [
       "(-54.631, 5463.031]       926775\n",
       "(5463.031, 10926.061]       8359\n",
       "(10926.061, 16389.092]       969\n",
       "(16389.092, 21852.122]       274\n",
       "(21852.122, 27315.153]       109\n",
       "(27315.153, 32778.183]        52\n",
       "(32778.183, 38241.214]        34\n",
       "(38241.214, 43704.244]        24\n",
       "(49167.275, 54630.306]         3\n",
       "(43704.244, 49167.275]         3\n",
       "Name: duration, dtype: int64"
      ]
     },
     "execution_count": 193,
     "metadata": {},
     "output_type": "execute_result"
    }
   ],
   "source": [
    "new_df.duration.value_counts(bins=10)"
   ]
  },
  {
   "cell_type": "markdown",
   "metadata": {},
   "source": [
    "### Modeling: classification\n",
    "- Since the distribution of duration value is extremely skewed and the median value is around 0.59, for classification modeling the duration values are grouped into two classes: \n",
    "    - Class 1: processing time no more than two days (duration <= 1).\n",
    "    - Class 2: processing time more than two days (duration >1 2)."
   ]
  },
  {
   "cell_type": "code",
   "execution_count": 194,
   "metadata": {},
   "outputs": [
    {
     "data": {
      "text/plain": [
       "Index(['reason', 'department', 'neighborhood', 'latitude', 'longitude',\n",
       "       'source', 'duration', 'open_y', 'open_m', 'open_day_of_week',\n",
       "       'Avg Temp (F)', 'Precip (in)'],\n",
       "      dtype='object')"
      ]
     },
     "execution_count": 194,
     "metadata": {},
     "output_type": "execute_result"
    }
   ],
   "source": [
    "new_df.columns"
   ]
  },
  {
   "cell_type": "code",
   "execution_count": 195,
   "metadata": {},
   "outputs": [
    {
     "name": "stderr",
     "output_type": "stream",
     "text": [
      "/usr/local/lib/python3.7/site-packages/pandas/core/indexing.py:205: SettingWithCopyWarning: \n",
      "A value is trying to be set on a copy of a slice from a DataFrame\n",
      "\n",
      "See the caveats in the documentation: http://pandas.pydata.org/pandas-docs/stable/user_guide/indexing.html#returning-a-view-versus-a-copy\n",
      "  self._setitem_with_indexer(indexer, value)\n"
     ]
    }
   ],
   "source": [
    "# group duration into two classes\n",
    "# 0.5 - 36hr\n",
    "group_1_idx = new_df[(new_df.duration <= 24)].index.tolist()\n",
    "group_2_idx = new_df[(new_df.duration > 24)].index.tolist()\n",
    "\n",
    "new_df['class'] = [0]*new_df.shape[0]\n",
    "new_df['class'].loc[group_1_idx] = 0\n",
    "new_df['class'].loc[group_2_idx] = 1\n"
   ]
  },
  {
   "cell_type": "code",
   "execution_count": 196,
   "metadata": {},
   "outputs": [
    {
     "data": {
      "text/plain": [
       "Text(0.5, 1.0, 'Distribution of classes')"
      ]
     },
     "execution_count": 196,
     "metadata": {},
     "output_type": "execute_result"
    },
    {
     "data": {
      "image/png": "[encoded data removed]",
      "text/plain": [
       "<Figure size 432x288 with 1 Axes>"
      ]
     },
     "metadata": {},
     "output_type": "display_data"
    }
   ],
   "source": [
    "new_df['class'].plot(kind='hist', bins=2, edgecolor='white')\n",
    "plt.xticks([])\n",
    "plt.xlabel('within 24hr        beyond 24hr')\n",
    "plt.title('Distribution of classes')"
   ]
  },
  {
   "cell_type": "code",
   "execution_count": 197,
   "metadata": {},
   "outputs": [
    {
     "data": {
      "text/plain": [
       "(936602, 13)"
      ]
     },
     "execution_count": 197,
     "metadata": {},
     "output_type": "execute_result"
    }
   ],
   "source": [
    "new_df.shape"
   ]
  },
  {
   "cell_type": "code",
   "execution_count": 198,
   "metadata": {},
   "outputs": [
    {
     "data": {
      "text/plain": [
       "reason               object\n",
       "department           object\n",
       "neighborhood         object\n",
       "latitude            float64\n",
       "longitude           float64\n",
       "source               object\n",
       "duration            float64\n",
       "open_y                int64\n",
       "open_m                int64\n",
       "open_day_of_week      int64\n",
       "Avg Temp (F)          int64\n",
       "Precip (in)         float64\n",
       "class                 int64\n",
       "dtype: object"
      ]
     },
     "execution_count": 198,
     "metadata": {},
     "output_type": "execute_result"
    }
   ],
   "source": [
    "new_df.dtypes"
   ]
  },
  {
   "cell_type": "code",
   "execution_count": 2,
   "metadata": {},
   "outputs": [],
   "source": [
    "from sklearn import preprocessing\n",
    "from sklearn import utils\n",
    "from sklearn.model_selection import train_test_split, GridSearchCV\n",
    "from sklearn.metrics import mean_squared_error, r2_score, f1_score,\\\n",
    "                            accuracy_score, roc_auc_score, roc_curve, mean_absolute_error\n",
    "from sklearn.decomposition import PCA\n",
    "\n",
    "from sklearn.dummy import DummyClassifier\n",
    "from sklearn.linear_model import LogisticRegression, SGDClassifier\n",
    "from sklearn.ensemble import RandomForestClassifier, AdaBoostClassifier, GradientBoostingClassifier, BaggingClassifier\n",
    "from sklearn.neural_network import MLPClassifier\n",
    "from sklearn.naive_bayes import BernoulliNB\n",
    "from sklearn.svm import NuSVC\n",
    "\n",
    "from sklearn.tree import DecisionTreeRegressor\n",
    "from sklearn.ensemble import RandomForestRegressor"
   ]
  },
  {
   "cell_type": "code",
   "execution_count": 274,
   "metadata": {},
   "outputs": [],
   "source": [
    "def x_processing(categorical, str_type_list, numeric):\n",
    "    \"\"\"\n",
    "    Function for encoding categorical features and string features with onehot vectors,\n",
    "    normalizing numeric features, and combining to form training features.\n",
    "    categorical: all categorical features as a dataframe.\n",
    "    str_type_list: a list of series have string as dtype.\n",
    "    numeric: all numeric features as a dataframe\n",
    "    \"\"\"\n",
    "    \n",
    "    enc = preprocessing.OneHotEncoder(handle_unknown='ignore')\n",
    "\n",
    "    onehotlabels = enc.fit_transform(categorical).toarray()\n",
    "    print(onehotlabels.shape)\n",
    "    \n",
    "    for i in str_type_list:\n",
    "        le = preprocessing.LabelEncoder()\n",
    "        encoded = le.fit_transform(i)\n",
    "        encoded = encoded.reshape(len(encoded),1)\n",
    "        onehot_2 = enc.fit_transform(encoded).toarray()\n",
    "        \n",
    "        onehotlabels = np.hstack((onehotlabels, onehot_2))\n",
    "    print(onehotlabels.shape)\n",
    "    \n",
    "    scaler = preprocessing.StandardScaler()\n",
    "    numericlabels = scaler.fit_transform(numeric)\n",
    "    print(numericlabels.shape)\n",
    "\n",
    "    combined = np.hstack((onehotlabels, numericlabels))\n",
    "    print(combined.shape)\n",
    "        \n",
    "    \n",
    "    return combined"
   ]
  },
  {
   "cell_type": "code",
   "execution_count": 320,
   "metadata": {},
   "outputs": [
    {
     "name": "stdout",
     "output_type": "stream",
     "text": [
      "(936602, 6)\n",
      "(936602, 103)\n",
      "(936602, 4)\n",
      "(936602, 107)\n"
     ]
    }
   ],
   "source": [
    "# Process X\n",
    "X_combine = x_processing(new_df[['open_y']],\\\n",
    "                         [new_df['department'], new_df['reason'], new_df['source'], new_df['neighborhood']],\\\n",
    "                         new_df[['Avg Temp (F)', 'Precip (in)', 'open_m', 'open_day_of_week']])\n"
   ]
  },
  {
   "cell_type": "markdown",
   "metadata": {},
   "source": [
    "### Dimension reduction by PCA."
   ]
  },
  {
   "cell_type": "code",
   "execution_count": 321,
   "metadata": {},
   "outputs": [
    {
     "data": {
      "text/plain": [
       "Text(0.5, 1.0, 'Principal Component Analysis')"
      ]
     },
     "execution_count": 321,
     "metadata": {},
     "output_type": "execute_result"
    },
    {
     "data": {
      "image/png": "[encoded data removed]",
      "text/plain": [
       "<Figure size 432x288 with 1 Axes>"
      ]
     },
     "metadata": {},
     "output_type": "display_data"
    }
   ],
   "source": [
    "# PCA\n",
    "pca = PCA().fit(X_combine)\n",
    "plt.plot(np.cumsum(pca.explained_variance_ratio_))\n",
    "plt.xlabel('number of components')\n",
    "plt.ylabel('cumulative explained variance')\n",
    "plt.title('Principal Component Analysis')"
   ]
  },
  {
   "cell_type": "code",
   "execution_count": 322,
   "metadata": {},
   "outputs": [
    {
     "data": {
      "text/plain": [
       "(936602, 20)"
      ]
     },
     "execution_count": 322,
     "metadata": {},
     "output_type": "execute_result"
    }
   ],
   "source": [
    "pca = PCA(n_components=20)\n",
    "X_pca = pca.fit_transform(X_combine)\n",
    "X_pca.shape"
   ]
  },
  {
   "cell_type": "markdown",
   "metadata": {},
   "source": [
    "### Split data into training, testing, and validation sets."
   ]
  },
  {
   "cell_type": "code",
   "execution_count": 279,
   "metadata": {},
   "outputs": [],
   "source": [
    "X_train, X_test, y_train, y_test = train_test_split(X_pca, new_df['class'], \n",
    "                                                    test_size=0.1, \n",
    "                                                    random_state=0, \n",
    "                                                    shuffle=True)\n",
    "\n"
   ]
  },
  {
   "cell_type": "markdown",
   "metadata": {},
   "source": [
    "### Test various classifiers and compare performance and error metrics.\n",
    "- Distance-based classifiers are not included because of their time cost on training large datasets.\n",
    "- Classifiers included:\n",
    "    - Dummy classifier (baseline)\n",
    "    - Logistic regression classifier\n",
    "    - Decision tree classifier\n",
    "    - Random forest classifier\n",
    "    - AdaBoost\n",
    "    - SGD classifier\n"
   ]
  },
  {
   "cell_type": "code",
   "execution_count": 280,
   "metadata": {},
   "outputs": [],
   "source": [
    "param_grid = {\n",
    "    'Logistic regression': {\n",
    "        'solver': ['lbfgs']#['sag', 'lbfgs', 'liblinear']        \n",
    "    },\n",
    "    'Decision Tree': {\n",
    "        'criterion': ['entropy'], #['gini', 'entropy'],\n",
    "        'max_features': ['auto'],# 'sqrt', 'log2']\n",
    "    },\n",
    "    'Random Forest': {\n",
    "        'criterion': ['entropy'],#['gini', 'entropy'],\n",
    "        'max_features': ['auto'],# 'sqrt', 'log2']\n",
    "        'min_samples_split': [2],#,4],\n",
    "        'min_samples_leaf': [4],#[1,4]\n",
    "        'n_estimators': [10]\n",
    "    },\n",
    "    'SGD': {\n",
    "        'loss': ['log'],\n",
    "        'max_iter': [1000],\n",
    "        'tol': [1e-3]\n",
    "    }\n",
    "}"
   ]
  },
  {
   "cell_type": "code",
   "execution_count": 281,
   "metadata": {},
   "outputs": [],
   "source": [
    "def clf_methods(clfs, X_train, y_train, X_test, y_test):\n",
    "    \"\"\"\n",
    "    Classifiers tune-train-test.\n",
    "    \"\"\"\n",
    "    roc_curve_dict = {}\n",
    "    acc = {}\n",
    "    f1 = {}\n",
    "    \n",
    "    for c in clfs:\n",
    "        if c == 'Dummy':\n",
    "            clf = DummyClassifier(strategy='most_frequent')\n",
    "        elif c == 'Logistic regression':\n",
    "            clf = GridSearchCV(cv=5, estimator=LogisticRegression(random_state=0),\n",
    "                               param_grid=param_grid['Logistic regression'], n_jobs=-1,\n",
    "                               scoring='roc_auc')\n",
    "        elif c == 'Decision Tree':\n",
    "            clf = GridSearchCV(cv=5, estimator=tree.DecisionTreeClassifier(random_state=0),\n",
    "                               param_grid=param_grid['Decision Tree'], n_jobs=-1,\n",
    "                               scoring='roc_auc')\n",
    "        elif c == 'Random Forest':\n",
    "            clf = GridSearchCV(cv=5, estimator=RandomForestClassifier(random_state=0),\n",
    "                               param_grid=param_grid['Random Forest'], n_jobs=-1,\n",
    "                               scoring='roc_auc')\n",
    "        elif c == 'AdaBoost':\n",
    "            clf = AdaBoostClassifier(random_state=0)\n",
    "        elif c == 'SGD':\n",
    "            clf = GridSearchCV(cv=5, estimator=SGDClassifier(random_state=0),\n",
    "                               param_grid=param_grid['SGD'], n_jobs=-1,\n",
    "                               scoring='roc_auc')\n",
    "            \n",
    "        \n",
    "        clf.fit(X_train, y_train)\n",
    "        pred = clf.predict(X_test)\n",
    "        fpr, tpr, _ = roc_curve(y_test, clf.predict_proba(X_test)[:,1])\n",
    "        roc_curve_dict[c] = (fpr, tpr)\n",
    "        f1[c] = f1_score(y_test, pred)\n",
    "        acc[c] = accuracy_score(y_test, pred)\n",
    "        \n",
    "        print(c)\n",
    "        print('Accuracy: ', \"%.2f\" % acc[c])\n",
    "        print('F1: ', \"%.2f\" % f1[c])\n",
    "        print('ROC_AUC: ', \"%.2f\" % roc_auc_score(y_test, pred))\n",
    "        print('=================================')\n",
    "        \n",
    "        \n",
    "    return roc_curve_dict, acc, f1"
   ]
  },
  {
   "cell_type": "code",
   "execution_count": 282,
   "metadata": {},
   "outputs": [
    {
     "name": "stderr",
     "output_type": "stream",
     "text": [
      "/usr/local/lib/python3.7/site-packages/sklearn/metrics/classification.py:1437: UndefinedMetricWarning: F-score is ill-defined and being set to 0.0 due to no predicted samples.\n",
      "  'precision', 'predicted', average, warn_for)\n"
     ]
    },
    {
     "name": "stdout",
     "output_type": "stream",
     "text": [
      "Dummy\n",
      "Accuracy:  0.62\n",
      "F1:  0.00\n",
      "ROC_AUC:  0.50\n",
      "=================================\n",
      "Logistic regression\n",
      "Accuracy:  0.73\n",
      "F1:  0.63\n",
      "ROC_AUC:  0.71\n",
      "=================================\n",
      "Decision Tree\n",
      "Accuracy:  0.78\n",
      "F1:  0.70\n",
      "ROC_AUC:  0.76\n",
      "=================================\n",
      "Random Forest\n",
      "Accuracy:  0.80\n",
      "F1:  0.73\n",
      "ROC_AUC:  0.79\n",
      "=================================\n",
      "AdaBoost\n",
      "Accuracy:  0.74\n",
      "F1:  0.65\n",
      "ROC_AUC:  0.72\n",
      "=================================\n",
      "SGD\n",
      "Accuracy:  0.73\n",
      "F1:  0.64\n",
      "ROC_AUC:  0.71\n",
      "=================================\n"
     ]
    }
   ],
   "source": [
    "clfs = ['Dummy', 'Logistic regression', 'Decision Tree', 'Random Forest', 'AdaBoost', 'SGD']\n",
    "roc_curve_dict, acc, f1 = clf_methods(clfs, X_train, y_train, X_test, y_test)\n"
   ]
  },
  {
   "cell_type": "code",
   "execution_count": 283,
   "metadata": {},
   "outputs": [
    {
     "data": {
      "image/png": "[encoded data removed]",
      "text/plain": [
       "<Figure size 720x216 with 2 Axes>"
      ]
     },
     "metadata": {},
     "output_type": "display_data"
    }
   ],
   "source": [
    "sorted_acc = sorted(acc.items() , key=lambda x: x[1])\n",
    "sorted_f1 = sorted(f1.items() , key=lambda x: x[1])\n",
    "\n",
    "plt.figure(figsize=(10,3))\n",
    "\n",
    "p1 = plt.subplot(121)\n",
    "p1.barh(range(len(sorted_acc)), [i[1] for i in sorted_acc])\n",
    "p1.set_xlim([0, 1])\n",
    "plt.yticks(range(len(sorted_f1)),[i[0] for i in sorted_f1])\n",
    "plt.xlabel('Accuracy')\n",
    "plt.title('Classification Metric: Accuracy')\n",
    "\n",
    "p2 = plt.subplot(122)\n",
    "p2.barh(range(len(sorted_f1)), [i[1] for i in sorted_f1])\n",
    "p2.set_xlim([0, 1])\n",
    "plt.yticks(range(len(sorted_f1)),[i[0] for i in sorted_f1])\n",
    "plt.xlabel('F1')\n",
    "plt.title('Classification Metric: F1')\n",
    "\n",
    "\n",
    "\n",
    "plt.subplots_adjust(wspace=0.6)"
   ]
  },
  {
   "cell_type": "code",
   "execution_count": 284,
   "metadata": {},
   "outputs": [
    {
     "data": {
      "text/plain": [
       "Text(0.5, 0, 'False Positive Rate')"
      ]
     },
     "execution_count": 284,
     "metadata": {},
     "output_type": "execute_result"
    },
    {
     "data": {
      "image/png": "[encoded data removed]",
      "text/plain": [
       "<Figure size 432x288 with 1 Axes>"
      ]
     },
     "metadata": {},
     "output_type": "display_data"
    }
   ],
   "source": [
    "for c in roc_curve_dict.keys():\n",
    "    fpr,tpr = roc_curve_dict[c]\n",
    "    plt.plot(fpr,tpr,label=c)\n",
    "    \n",
    "plt.legend(loc=4)\n",
    "plt.title('Receiver Operating Characteristic')\n",
    "plt.ylabel('True Positive Rate')\n",
    "plt.xlabel('False Positive Rate')"
   ]
  },
  {
   "cell_type": "markdown",
   "metadata": {},
   "source": [
    "### Test various regressors and compare performance and error metrics.\n",
    "- Regressors included:\n",
    "    - Dummy regressor\n",
    "    - Decision tree regressor\n",
    "    - Random forest regressor\n",
    "    - Gradient boosting regressor\n",
    "    - Linear regressor\n"
   ]
  },
  {
   "cell_type": "code",
   "execution_count": 323,
   "metadata": {},
   "outputs": [
    {
     "data": {
      "text/plain": [
       "count    171069.000000\n",
       "mean          3.386809\n",
       "std           4.126719\n",
       "min           0.000093\n",
       "25%           0.651840\n",
       "50%           2.287998\n",
       "75%           5.327789\n",
       "max         633.062025\n",
       "Name: duration, dtype: float64"
      ]
     },
     "execution_count": 323,
     "metadata": {},
     "output_type": "execute_result"
    }
   ],
   "source": [
    "# convert duration from hours to days.\n",
    "new_df['duration'] = new_df['duration']/24\n",
    "new_df[(new_df['reason']=='Sanitation')]['duration'].describe()"
   ]
  },
  {
   "cell_type": "code",
   "execution_count": 324,
   "metadata": {},
   "outputs": [
    {
     "data": {
      "text/plain": [
       "(171069, 13)"
      ]
     },
     "execution_count": 324,
     "metadata": {},
     "output_type": "execute_result"
    }
   ],
   "source": [
    "re = new_df[(new_df['reason']=='Sanitation')]\n",
    "re_label = new_df[(new_df['reason']=='Sanitation')]['duration']\n",
    "re.shape"
   ]
  },
  {
   "cell_type": "code",
   "execution_count": 325,
   "metadata": {},
   "outputs": [
    {
     "data": {
      "text/html": [
       "<div>\n",
       "<style scoped>\n",
       "    .dataframe tbody tr th:only-of-type {\n",
       "        vertical-align: middle;\n",
       "    }\n",
       "\n",
       "    .dataframe tbody tr th {\n",
       "        vertical-align: top;\n",
       "    }\n",
       "\n",
       "    .dataframe thead th {\n",
       "        text-align: right;\n",
       "    }\n",
       "</style>\n",
       "<table border=\"1\" class=\"dataframe\">\n",
       "  <thead>\n",
       "    <tr style=\"text-align: right;\">\n",
       "      <th></th>\n",
       "      <th>reason</th>\n",
       "      <th>department</th>\n",
       "      <th>neighborhood</th>\n",
       "      <th>latitude</th>\n",
       "      <th>longitude</th>\n",
       "      <th>source</th>\n",
       "      <th>duration</th>\n",
       "      <th>open_y</th>\n",
       "      <th>open_m</th>\n",
       "      <th>open_day_of_week</th>\n",
       "      <th>Avg Temp (F)</th>\n",
       "      <th>Precip (in)</th>\n",
       "      <th>class</th>\n",
       "    </tr>\n",
       "  </thead>\n",
       "  <tbody>\n",
       "    <tr>\n",
       "      <td>2</td>\n",
       "      <td>Sanitation</td>\n",
       "      <td>PWDx</td>\n",
       "      <td>Roxbury</td>\n",
       "      <td>42.3086</td>\n",
       "      <td>-71.0855</td>\n",
       "      <td>Self Service</td>\n",
       "      <td>2.314421</td>\n",
       "      <td>2013</td>\n",
       "      <td>1</td>\n",
       "      <td>1</td>\n",
       "      <td>29</td>\n",
       "      <td>0.0</td>\n",
       "      <td>1</td>\n",
       "    </tr>\n",
       "    <tr>\n",
       "      <td>3</td>\n",
       "      <td>Sanitation</td>\n",
       "      <td>PWDx</td>\n",
       "      <td>South End</td>\n",
       "      <td>42.3440</td>\n",
       "      <td>-71.0704</td>\n",
       "      <td>Self Service</td>\n",
       "      <td>3.311748</td>\n",
       "      <td>2013</td>\n",
       "      <td>1</td>\n",
       "      <td>1</td>\n",
       "      <td>29</td>\n",
       "      <td>0.0</td>\n",
       "      <td>1</td>\n",
       "    </tr>\n",
       "    <tr>\n",
       "      <td>6</td>\n",
       "      <td>Sanitation</td>\n",
       "      <td>PWDx</td>\n",
       "      <td>Mission Hill</td>\n",
       "      <td>42.3289</td>\n",
       "      <td>-71.1006</td>\n",
       "      <td>Self Service</td>\n",
       "      <td>0.143519</td>\n",
       "      <td>2013</td>\n",
       "      <td>1</td>\n",
       "      <td>1</td>\n",
       "      <td>29</td>\n",
       "      <td>0.0</td>\n",
       "      <td>0</td>\n",
       "    </tr>\n",
       "    <tr>\n",
       "      <td>9</td>\n",
       "      <td>Sanitation</td>\n",
       "      <td>PWDx</td>\n",
       "      <td>Allston / Brighton</td>\n",
       "      <td>42.3527</td>\n",
       "      <td>-71.1478</td>\n",
       "      <td>Self Service</td>\n",
       "      <td>7.505185</td>\n",
       "      <td>2013</td>\n",
       "      <td>1</td>\n",
       "      <td>1</td>\n",
       "      <td>29</td>\n",
       "      <td>0.0</td>\n",
       "      <td>1</td>\n",
       "    </tr>\n",
       "    <tr>\n",
       "      <td>11</td>\n",
       "      <td>Sanitation</td>\n",
       "      <td>PWDx</td>\n",
       "      <td>Jamaica Plain</td>\n",
       "      <td>42.3099</td>\n",
       "      <td>-71.1050</td>\n",
       "      <td>Self Service</td>\n",
       "      <td>4.443299</td>\n",
       "      <td>2013</td>\n",
       "      <td>1</td>\n",
       "      <td>1</td>\n",
       "      <td>29</td>\n",
       "      <td>0.0</td>\n",
       "      <td>1</td>\n",
       "    </tr>\n",
       "  </tbody>\n",
       "</table>\n",
       "</div>"
      ],
      "text/plain": [
       "        reason department        neighborhood  latitude  longitude  \\\n",
       "2   Sanitation       PWDx             Roxbury   42.3086   -71.0855   \n",
       "3   Sanitation       PWDx           South End   42.3440   -71.0704   \n",
       "6   Sanitation       PWDx        Mission Hill   42.3289   -71.1006   \n",
       "9   Sanitation       PWDx  Allston / Brighton   42.3527   -71.1478   \n",
       "11  Sanitation       PWDx       Jamaica Plain   42.3099   -71.1050   \n",
       "\n",
       "          source  duration  open_y  open_m  open_day_of_week  Avg Temp (F)  \\\n",
       "2   Self Service  2.314421    2013       1                 1            29   \n",
       "3   Self Service  3.311748    2013       1                 1            29   \n",
       "6   Self Service  0.143519    2013       1                 1            29   \n",
       "9   Self Service  7.505185    2013       1                 1            29   \n",
       "11  Self Service  4.443299    2013       1                 1            29   \n",
       "\n",
       "    Precip (in)  class  \n",
       "2           0.0      1  \n",
       "3           0.0      1  \n",
       "6           0.0      0  \n",
       "9           0.0      1  \n",
       "11          0.0      1  "
      ]
     },
     "execution_count": 325,
     "metadata": {},
     "output_type": "execute_result"
    }
   ],
   "source": [
    "re.head()"
   ]
  },
  {
   "cell_type": "code",
   "execution_count": 341,
   "metadata": {},
   "outputs": [
    {
     "name": "stdout",
     "output_type": "stream",
     "text": [
      "(171069, 6)\n",
      "(171069, 40)\n",
      "(171069, 4)\n",
      "(171069, 44)\n"
     ]
    }
   ],
   "source": [
    "re_combine = x_processing(re[['open_y']],\\\n",
    "                        [re['department'], re['source'], re['neighborhood'], re['reason']],\\\n",
    "                        re[['Avg Temp (F)', 'Precip (in)', 'open_m', 'open_day_of_week']])\n"
   ]
  },
  {
   "cell_type": "code",
   "execution_count": 342,
   "metadata": {},
   "outputs": [],
   "source": [
    "X_train, X_test, y_train, y_test = train_test_split(re_combine, re_label, \n",
    "                                                    test_size=0.1, \n",
    "                                                    random_state=0, \n",
    "                                                    shuffle=True)"
   ]
  },
  {
   "cell_type": "code",
   "execution_count": 3,
   "metadata": {},
   "outputs": [],
   "source": [
    "from sklearn.ensemble import RandomForestRegressor, GradientBoostingRegressor\n",
    "from sklearn.linear_model import LinearRegression, SGDRegressor\n",
    "from sklearn.dummy import DummyRegressor\n"
   ]
  },
  {
   "cell_type": "code",
   "execution_count": 344,
   "metadata": {},
   "outputs": [],
   "source": [
    "param_grid_r = {\n",
    "    'Decision Tree': {\n",
    "        'max_features': ['log2'],#['auto', 'sqrt', 'log2'],\n",
    "        'min_samples_split': [2],#[2,3,4],\n",
    "        'min_samples_leaf': [4]#[1,2,4]\n",
    "        \n",
    "    },\n",
    "    'Random Forest': {\n",
    "        'n_estimators': [50],#[10, 50],\n",
    "        'max_features': ['log2'],#['auto', 'sqrt', 'log2'],\n",
    "        'min_samples_split': [4],#[2,3,4]\n",
    "    },\n",
    "    'Gradient Boosting': {\n",
    "        'max_features': ['sqrt'],# 'log2'],#['auto', 'sqrt'],\n",
    "        'learning_rate': [0.1],#0.01],\n",
    "        'min_samples_split': [4],#[2,3,4],\n",
    "        'max_depth': [4]#[3,4,5]\n",
    "    }\n",
    "}"
   ]
  },
  {
   "cell_type": "code",
   "execution_count": 345,
   "metadata": {},
   "outputs": [],
   "source": [
    "def regr_methods(regrs, X_train, y_train, X_test, y_test):\n",
    "    \"\"\"\n",
    "    Regressors tune-train-test.\n",
    "    \"\"\"\n",
    "    param = {}\n",
    "    mae = {}\n",
    "    rmse = {}\n",
    "    r2 = {}\n",
    "    for r in regrs:\n",
    "        if r == 'Dummy':\n",
    "            regr = DummyRegressor(strategy='mean')\n",
    "        elif r == 'Decision Tree':\n",
    "            regr = GridSearchCV(cv=5, estimator=DecisionTreeRegressor(random_state=0),\n",
    "                                param_grid=param_grid_r['Decision Tree'], n_jobs=-1,\n",
    "                                scoring='r2')\n",
    "        elif r == 'Random Forest':\n",
    "            regr = GridSearchCV(cv=5, estimator=RandomForestRegressor(random_state=0),\n",
    "                                param_grid=param_grid_r['Random Forest'], n_jobs=-1,\n",
    "                                scoring='r2')\n",
    "        elif r == 'Gradient Boosting':\n",
    "            regr = GridSearchCV(cv=5, estimator=GradientBoostingRegressor(random_state=0, n_estimators=200),\n",
    "                                param_grid=param_grid_r['Gradient Boosting'], n_jobs=-1,\n",
    "                                scoring='r2')\n",
    "        elif r == 'Linear':\n",
    "            regr = LinearRegression()\n",
    "\n",
    "\n",
    "        \n",
    "        regr.fit(X_train, y_train)\n",
    "        pred = regr.predict(X_test)\n",
    "        \n",
    "        param[r] = regr\n",
    "        mae[r] = mean_absolute_error(y_test, pred)\n",
    "        rmse[r] = np.sqrt(mean_squared_error(y_test, pred))\n",
    "        r2[r] = r2_score(y_test, pred)\n",
    "        print(r)\n",
    "        print(\"Mean absolute error: %.2f\" % mae[r])\n",
    "        print(\"Mean squared error: %.2f\" % rmse[r])\n",
    "        print('R2: %.2f' % r2[r])\n",
    "        print('=================================')\n",
    "        \n",
    "    return param, mae, rmse, r2\n",
    "       "
   ]
  },
  {
   "cell_type": "code",
   "execution_count": 346,
   "metadata": {},
   "outputs": [
    {
     "name": "stdout",
     "output_type": "stream",
     "text": [
      "Dummy\n",
      "Mean absolute error: 2.74\n",
      "Mean squared error: 3.79\n",
      "R2: -0.00\n",
      "=================================\n",
      "Decision Tree\n",
      "Mean absolute error: 2.53\n",
      "Mean squared error: 3.59\n",
      "R2: 0.11\n",
      "=================================\n",
      "Random Forest\n",
      "Mean absolute error: 2.49\n",
      "Mean squared error: 3.59\n",
      "R2: 0.11\n",
      "=================================\n",
      "Gradient Boosting\n",
      "Mean absolute error: 2.52\n",
      "Mean squared error: 3.49\n",
      "R2: 0.15\n",
      "=================================\n",
      "Linear\n",
      "Mean absolute error: 2.58\n",
      "Mean squared error: 3.63\n",
      "R2: 0.08\n",
      "=================================\n"
     ]
    }
   ],
   "source": [
    "regrs = ['Dummy', 'Decision Tree', 'Random Forest','Gradient Boosting', 'Linear']\n",
    "param, mae, rmse, r2 = regr_methods(regrs, X_train, y_train, X_test, y_test)\n"
   ]
  },
  {
   "cell_type": "code",
   "execution_count": 363,
   "metadata": {},
   "outputs": [
    {
     "data": {
      "image/png": "[encoded data removed]",
      "text/plain": [
       "<Figure size 720x216 with 3 Axes>"
      ]
     },
     "metadata": {},
     "output_type": "display_data"
    }
   ],
   "source": [
    "sorted_rmse = sorted(rmse.items() , reverse=True, key=lambda x: x[1])\n",
    "sorted_r2 = sorted(r2.items() , reverse=True, key=lambda x: x[1])\n",
    "sorted_mae = sorted(mae.items() , reverse=True, key=lambda x: x[1])\n",
    "\n",
    "plt.figure(figsize=(10,3))\n",
    "\n",
    "p1 = plt.subplot(1, 3, 1)\n",
    "p1.barh(range(len(sorted_mae)), [i[1] for i in sorted_mae], color='green')\n",
    "p1.set_xlim([0, 5])\n",
    "plt.yticks(range(len(sorted_mae)),[i[0] for i in sorted_mae])\n",
    "plt.xlabel('MAE')\n",
    "plt.title('Regression Metric: MAE', fontsize=14)\n",
    "\n",
    "p2 = plt.subplot(1, 3, 2)\n",
    "p2.barh(range(len(sorted_rmse)), [i[1] for i in sorted_rmse], color='green')\n",
    "p2.set_xlim([0, 5])\n",
    "plt.yticks(range(len(sorted_rmse)),[i[0] for i in sorted_rmse])\n",
    "plt.xlabel('RMSE')\n",
    "plt.title('Regression Metric: RMSE', fontsize=14)\n",
    "\n",
    "p3 = plt.subplot(1, 3, 3)\n",
    "p3.barh(range(len(sorted_r2)), [i[1] for i in sorted_r2], color='green')\n",
    "p3.set_xlim([0, 0.2])\n",
    "plt.yticks(range(len(sorted_r2)),[i[0] for i in sorted_r2])\n",
    "plt.xlabel('R2')\n",
    "plt.title('Regression Metric: R2', fontsize=14)\n",
    "\n",
    "\n",
    "plt.subplots_adjust(wspace=1)"
   ]
  },
  {
   "cell_type": "code",
   "execution_count": null,
   "metadata": {},
   "outputs": [],
   "source": []
  }
 ],
 "metadata": {
  "kernelspec": {
   "display_name": "Python 3",
   "language": "python",
   "name": "python3"
  },
  "language_info": {
   "codemirror_mode": {
    "name": "ipython",
    "version": 3
   },
   "file_extension": ".py",
   "mimetype": "text/x-python",
   "name": "python",
   "nbconvert_exporter": "python",
   "pygments_lexer": "ipython3",
   "version": "3.7.4"
  }
 },
 "nbformat": 4,
 "nbformat_minor": 2
}
